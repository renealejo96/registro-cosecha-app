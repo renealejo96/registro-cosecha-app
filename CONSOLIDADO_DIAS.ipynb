{
 "cells": [
  {
   "cell_type": "code",
   "execution_count": 68,
   "id": "42ec938f",
   "metadata": {},
   "outputs": [],
   "source": [
    "import pandas as pd\n",
    "import numpy as np\n",
    "import glob\n"
   ]
  },
  {
   "cell_type": "markdown",
   "id": "40d8b594",
   "metadata": {},
   "source": [
    "2. Basepath"
   ]
  },
  {
   "cell_type": "code",
   "execution_count": 69,
   "id": "9f181e4e",
   "metadata": {},
   "outputs": [],
   "source": [
    "pathh= glob.glob(r\"C:\\Users\\rvelez\\OneDrive - Elite Flower\\KELLY ZNH\\RENDIMIENTOS\\RENDIMIENTOS PRACTICA\\2025\\SEMANA2521\\MIERCOLES\\*.xlsx\")"
   ]
  },
  {
   "cell_type": "markdown",
   "id": "ec055d77",
   "metadata": {},
   "source": [
    "3. Definir archivos que están en la carpeta\n"
   ]
  },
  {
   "cell_type": "code",
   "execution_count": 70,
   "id": "fd6018c5",
   "metadata": {},
   "outputs": [],
   "source": [
    "dataframes=[]\n",
    "for archivo in pathh:\n",
    "    df=pd.read_excel(archivo,sheet_name=\"DATOS\",index_col=None)\n",
    "    dataframes.append(df)\n",
    "df_final=pd.concat(dataframes,ignore_index=False)\n",
    "\n"
   ]
  },
  {
   "cell_type": "markdown",
   "id": "bdc9245f",
   "metadata": {},
   "source": [
    "4. Filtrar el rendimiento que contiene 0 y dejar solo los días sin espacios vacíos"
   ]
  },
  {
   "cell_type": "code",
   "execution_count": null,
   "id": "44ecf25d",
   "metadata": {},
   "outputs": [],
   "source": [
    "\n",
    "dfinal=df_final[(df_final[\"Redimiento ejecutado\"]!= 0) & (df_final[\"DIA\"].isin([\"lunes\",\"martes\",\"miércoles\",\"jueves\",\"viernes\",\"sábado\",\"domingo\"]))]\n",
    "\n"
   ]
  },
  {
   "cell_type": "markdown",
   "id": "1020516f",
   "metadata": {},
   "source": [
    "5. Exportar a excel"
   ]
  },
  {
   "cell_type": "code",
   "execution_count": 72,
   "id": "a0cce193",
   "metadata": {},
   "outputs": [],
   "source": [
    "dfinal.to_excel(r\"C:\\Users\\rvelez\\Downloads\\exporta\\rvhoras.xlsx\")"
   ]
  }
 ],
 "metadata": {
  "kernelspec": {
   "display_name": "Python 3",
   "language": "python",
   "name": "python3"
  },
  "language_info": {
   "codemirror_mode": {
    "name": "ipython",
    "version": 3
   },
   "file_extension": ".py",
   "mimetype": "text/x-python",
   "name": "python",
   "nbconvert_exporter": "python",
   "pygments_lexer": "ipython3",
   "version": "3.13.3"
  }
 },
 "nbformat": 4,
 "nbformat_minor": 5
}
